Suppression du fichier MTVQA corrompu
